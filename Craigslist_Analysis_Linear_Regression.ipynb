{
  "nbformat": 4,
  "nbformat_minor": 0,
  "metadata": {
    "colab": {
      "provenance": [],
      "authorship_tag": "ABX9TyOYn4lt9hKh7CEi6lUA/MKF",
      "include_colab_link": true
    },
    "kernelspec": {
      "name": "python3",
      "display_name": "Python 3"
    },
    "language_info": {
      "name": "python"
    }
  },
  "cells": [
    {
      "cell_type": "markdown",
      "metadata": {
        "id": "view-in-github",
        "colab_type": "text"
      },
      "source": [
        "<a href=\"https://colab.research.google.com/github/Sankytanky100/Data_Science-Projects/blob/main/Craigslist_Analysis_Linear_Regression.ipynb\" target=\"_parent\"><img src=\"https://colab.research.google.com/assets/colab-badge.svg\" alt=\"Open In Colab\"/></a>"
      ]
    },
    {
      "cell_type": "code",
      "execution_count": 1,
      "metadata": {
        "colab": {
          "base_uri": "https://localhost:8080/"
        },
        "id": "AYL69QCWhnje",
        "outputId": "798d9a19-bad5-437a-dcaf-83619933b68b"
      },
      "outputs": [
        {
          "output_type": "stream",
          "name": "stdout",
          "text": [
            "model1 R-squared:  0.12781764439123156\n",
            "model2 R-squared:  0.28191525276034357\n",
            "model3 R-squared:  0.2838226722379379\n",
            "model1 adj R-squared:  0.1257189501326984\n",
            "model2 adj R-squared:  0.2762905680561165\n",
            "model3 adj R-squared:  0.27774148003616994\n",
            "   df_resid           ssr  df_diff     ss_diff     F  Pr(>F)\n",
            "0    3064.0  5.270049e+08      0.0         NaN   NaN     NaN\n",
            "1    3062.0  5.256050e+08      2.0  1399861.77  4.08    0.02\n",
            "model1 log likelihood:  -37528.12294065279\n",
            "model2 log likelihood:  -22989.87439522474\n",
            "model3 log likelihood:  -22985.76634388421\n",
            "model1 AIC:  75082.24588130559\n",
            "model2 AIC:  46029.74879044948\n",
            "model3 AIC:  46025.53268776842\n",
            "model1 BIC:  75166.969392794\n",
            "model2 BIC:  46180.63885777244\n",
            "model3 BIC:  46188.49396047722\n",
            "model2 PRMSE:  410.81080568501335\n",
            "model3 PRMSE:  409.9251368230317\n"
          ]
        }
      ],
      "source": [
        "# Load libraries\n",
        "import pandas as pd\n",
        "import numpy as np\n",
        "import statsmodels.api as sm\n",
        "\n",
        "# Set seed\n",
        "np.random.seed(1)\n",
        "\n",
        "# Import data\n",
        "housing = pd.read_csv('craigslist.csv')\n",
        "\n",
        "# Fit model1\n",
        "model1 = sm.OLS.from_formula('price ~ type + sqfeet + beds + baths', data=housing).fit()\n",
        "\n",
        "# Fit model2\n",
        "model2 = sm.OLS.from_formula('price ~ type + sqfeet + beds + baths + comes_furnished + laundry_options + parking_options + smoking_allowed', data=housing).fit()\n",
        "\n",
        "# Fit model3\n",
        "model3 = sm.OLS.from_formula('price ~ type + sqfeet + beds + baths + comes_furnished + laundry_options + parking_options + smoking_allowed + cats_allowed + dogs_allowed', data=housing).fit()\n",
        "\n",
        "# Print R-squared for all models\n",
        "print('model1 R-squared: ', model1.rsquared)\n",
        "print('model2 R-squared: ', model2.rsquared)\n",
        "print('model3 R-squared: ', model3.rsquared)\n",
        "\n",
        "# Print adjusted R-squared for all models\n",
        "print('model1 adj R-squared: ', model1.rsquared_adj)\n",
        "print('model2 adj R-squared: ', model2.rsquared_adj)\n",
        "print('model3 adj R-squared: ', model3.rsquared_adj)\n",
        "\n",
        "# Run an F test comparing model2 and model3\n",
        "from statsmodels.stats.anova import anova_lm\n",
        "anova_results = anova_lm(model2, model3)\n",
        "print(anova_results.round(2))\n",
        "\n",
        "# Print log likelihood for all models\n",
        "print('model1 log likelihood: ', model1.llf)\n",
        "print('model2 log likelihood: ', model2.llf)\n",
        "print('model3 log likelihood: ', model3.llf)\n",
        "\n",
        "# Print AIC for all models\n",
        "print('model1 AIC: ', model1.aic)\n",
        "print('model2 AIC: ', model2.aic)\n",
        "print('model3 AIC: ', model3.aic)\n",
        "\n",
        "# Print BIC for all models\n",
        "print('model1 BIC: ', model1.bic)\n",
        "print('model2 BIC: ', model2.bic)\n",
        "print('model3 BIC: ', model3.bic)\n",
        "\n",
        "# Split housing data\n",
        "indices = range(len(housing))\n",
        "s = int(0.8*len(indices))\n",
        "train_ind = np.random.choice(indices, size = s, replace = False)\n",
        "test_ind = list(set(indices) - set(train_ind))\n",
        "housing_train = housing.iloc[train_ind]\n",
        "housing_test = housing.iloc[test_ind]\n",
        "\n",
        "# Fit model2 with training data\n",
        "model2_train = sm.OLS.from_formula('price ~ type + sqfeet + beds + baths + comes_furnished + laundry_options + parking_options + smoking_allowed', data=housing_train).fit()\n",
        "\n",
        "# Fit model3 with training data\n",
        "model3_train = sm.OLS.from_formula('price ~ type + sqfeet + beds + baths + comes_furnished + laundry_options + parking_options + smoking_allowed + cats_allowed + dogs_allowed', data=housing_train).fit()\n",
        "\n",
        "# Calculate predicted price based on model2\n",
        "fitted_mod2 = model2_train.predict(housing_test)\n",
        "\n",
        "# Calculate predicted price based on model3\n",
        "fitted_mod3 = model3_train.predict(housing_test)\n",
        "\n",
        "# Calculate PRMSE for model2\n",
        "true = housing_test.price\n",
        "prmse2 = np.mean((true-fitted_mod2)**2)**.5\n",
        "\n",
        "# Calculate PRMSE for model3\n",
        "prmse3 = np.mean((true-fitted_mod3)**2)**.5\n",
        "\n",
        "# Print PRMSE for both models\n",
        "print('model2 PRMSE: ', prmse2)\n",
        "print('model3 PRMSE: ', prmse3)"
      ]
    }
  ]
}