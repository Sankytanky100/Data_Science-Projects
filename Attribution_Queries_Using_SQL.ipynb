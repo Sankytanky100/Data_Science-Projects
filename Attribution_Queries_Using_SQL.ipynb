{
  "nbformat": 4,
  "nbformat_minor": 0,
  "metadata": {
    "colab": {
      "provenance": [],
      "authorship_tag": "ABX9TyPl2+NpJtdnh5IesLDuxY9w",
      "include_colab_link": true
    },
    "kernelspec": {
      "name": "python3",
      "display_name": "Python 3"
    },
    "language_info": {
      "name": "python"
    }
  },
  "cells": [
    {
      "cell_type": "markdown",
      "metadata": {
        "id": "view-in-github",
        "colab_type": "text"
      },
      "source": [
        "<a href=\"https://colab.research.google.com/github/Sankytanky100/Data_Science-Projects/blob/main/Attribution_Queries_Using_SQL.ipynb\" target=\"_parent\"><img src=\"https://colab.research.google.com/assets/colab-badge.svg\" alt=\"Open In Colab\"/></a>"
      ]
    },
    {
      "cell_type": "markdown",
      "source": [
        "Project Overview\n",
        "Objective: Analyze marketing campaign performance for CoolTShirts by mapping customer journeys using touch attribution and advanced SQL queries.\n",
        "\n",
        "Dataset: We will create a simulated page_visits table containing user journey data, including campaigns and sources."
      ],
      "metadata": {
        "id": "Y5AwUmREgHla"
      }
    },
    {
      "cell_type": "code",
      "execution_count": null,
      "metadata": {
        "id": "9XOGjE9hgDyU"
      },
      "outputs": [],
      "source": [
        "# Install ipython-sql extension\n",
        "!pip install ipython-sql\n",
        "\n",
        "# Load the SQL extension\n",
        "%load_ext sql\n",
        "\n",
        "# Create an in-memory SQLite database\n",
        "%sql sqlite://\n"
      ]
    },
    {
      "cell_type": "code",
      "source": [
        "%%sql\n",
        "\n",
        "DROP TABLE IF EXISTS page_visits;\n",
        "\n",
        "CREATE TABLE page_visits (\n",
        "    user_id INTEGER,\n",
        "    visit_time TIMESTAMP,\n",
        "    page_name TEXT,\n",
        "    campaign TEXT,\n",
        "    source TEXT\n",
        ");\n"
      ],
      "metadata": {
        "id": "Hw5koLJugN5N"
      },
      "execution_count": null,
      "outputs": []
    },
    {
      "cell_type": "code",
      "source": [
        "%%sql\n",
        "\n",
        "INSERT INTO page_visits (user_id, visit_time, page_name, campaign, source) VALUES\n",
        "(1, '2023-11-01 08:00:00', '1 - Home', 'Campaign A', 'Google'),\n",
        "(1, '2023-11-01 08:05:00', '2 - Product', 'Campaign A', 'Google'),\n",
        "(1, '2023-11-01 08:10:00', '4 - Purchase', 'Campaign A', 'Google'),\n",
        "\n",
        "(2, '2023-11-01 09:00:00', '1 - Home', 'Campaign B', 'Facebook'),\n",
        "(2, '2023-11-01 09:15:00', '3 - Cart', 'Campaign C', 'Instagram'),\n",
        "(2, '2023-11-01 09:20:00', '4 - Purchase', 'Campaign C', 'Instagram'),\n",
        "\n",
        "(3, '2023-11-01 10:00:00', '2 - Product', 'Campaign D', 'Twitter'),\n",
        "(3, '2023-11-01 10:05:00', '3 - Cart', 'Campaign D', 'Twitter'),\n",
        "\n",
        "(4, '2023-11-01 11:00:00', '1 - Home', 'Campaign E', 'LinkedIn'),\n",
        "(4, '2023-11-01 11:10:00', '2 - Product', 'Campaign E', 'LinkedIn'),\n",
        "(4, '2023-11-01 11:15:00', '4 - Purchase', 'Campaign E', 'LinkedIn'),\n",
        "\n",
        "(5, '2023-11-01 12:00:00', '1 - Home', 'Campaign F', 'Google'),\n",
        "(5, '2023-11-01 12:05:00', '2 - Product', 'Campaign F', 'Google'),\n",
        "\n",
        "(6, '2023-11-01 13:00:00', '1 - Home', 'Campaign A', 'Google'),\n",
        "(6, '2023-11-01 13:10:00', '4 - Purchase', 'Campaign A', 'Google');\n"
      ],
      "metadata": {
        "id": "QOMWdqKugOox"
      },
      "execution_count": null,
      "outputs": []
    },
    {
      "cell_type": "code",
      "source": [
        "%%sql\n",
        "\n",
        "SELECT * FROM page_visits;\n"
      ],
      "metadata": {
        "id": "zONQ6Mx_gWmq"
      },
      "execution_count": null,
      "outputs": []
    },
    {
      "cell_type": "code",
      "source": [
        "%%sql\n",
        "\n",
        "SELECT COUNT(DISTINCT campaign) AS num_campaigns\n",
        "FROM page_visits;\n",
        "\n",
        "SELECT COUNT(DISTINCT source) AS num_sources\n",
        "FROM page_visits;\n",
        "\n",
        "SELECT DISTINCT campaign, source\n",
        "FROM page_visits\n",
        "ORDER BY campaign;"
      ],
      "metadata": {
        "id": "clarwknvgUsX"
      },
      "execution_count": null,
      "outputs": []
    },
    {
      "cell_type": "code",
      "source": [
        "%%sql\n",
        "\n",
        "SELECT DISTINCT page_name\n",
        "FROM page_visits\n",
        "ORDER BY page_name;\n"
      ],
      "metadata": {
        "id": "qYQ2z1ANgbus"
      },
      "execution_count": null,
      "outputs": []
    },
    {
      "cell_type": "code",
      "source": [
        "%%sql\n",
        "\n",
        "WITH first_touch AS (\n",
        "    SELECT\n",
        "        user_id,\n",
        "        MIN(visit_time) AS first_visit_time\n",
        "    FROM page_visits\n",
        "    GROUP BY user_id\n",
        ")\n",
        "SELECT\n",
        "    pv.campaign,\n",
        "    COUNT(DISTINCT pv.user_id) AS num_first_touches\n",
        "FROM first_touch ft\n",
        "JOIN page_visits pv ON ft.user_id = pv.user_id AND ft.first_visit_time = pv.visit_time\n",
        "GROUP BY pv.campaign\n",
        "ORDER BY num_first_touches DESC;\n"
      ],
      "metadata": {
        "id": "Di4g_hdwgeIq"
      },
      "execution_count": null,
      "outputs": []
    },
    {
      "cell_type": "code",
      "source": [
        "%%sql\n",
        "\n",
        "WITH last_touch AS (\n",
        "    SELECT\n",
        "        user_id,\n",
        "        MAX(visit_time) AS last_visit_time\n",
        "    FROM page_visits\n",
        "    GROUP BY user_id\n",
        ")\n",
        "SELECT\n",
        "    pv.campaign,\n",
        "    COUNT(DISTINCT pv.user_id) AS num_last_touches\n",
        "FROM last_touch lt\n",
        "JOIN page_visits pv ON lt.user_id = pv.user_id AND lt.last_visit_time = pv.visit_time\n",
        "GROUP BY pv.campaign\n",
        "ORDER BY num_last_touches DESC;\n"
      ],
      "metadata": {
        "id": "1qZ0DUUhgfr1"
      },
      "execution_count": null,
      "outputs": []
    },
    {
      "cell_type": "code",
      "source": [
        "%%sql\n",
        "\n",
        "SELECT COUNT(DISTINCT user_id) AS num_purchasers\n",
        "FROM page_visits\n",
        "WHERE page_name = '4 - Purchase';\n"
      ],
      "metadata": {
        "id": "3XHA88gUgg3L"
      },
      "execution_count": null,
      "outputs": []
    },
    {
      "cell_type": "code",
      "source": [
        "%%sql\n",
        "\n",
        "WITH last_touch AS (\n",
        "    SELECT\n",
        "        user_id,\n",
        "        MAX(visit_time) AS last_visit_time\n",
        "    FROM page_visits\n",
        "    GROUP BY user_id\n",
        ")\n",
        "SELECT\n",
        "    pv.campaign,\n",
        "    COUNT(DISTINCT pv.user_id) AS num_purchase_last_touches\n",
        "FROM last_touch lt\n",
        "JOIN page_visits pv ON lt.user_id = pv.user_id AND lt.last_visit_time = pv.visit_time\n",
        "WHERE pv.page_name = '4 - Purchase'\n",
        "GROUP BY pv.campaign\n",
        "ORDER BY num_purchase_last_touches DESC;\n"
      ],
      "metadata": {
        "id": "l0v5V5gigiC9"
      },
      "execution_count": null,
      "outputs": []
    },
    {
      "cell_type": "code",
      "source": [
        "%%sql\n",
        "\n",
        "WITH first_touch AS (\n",
        "    SELECT\n",
        "        user_id,\n",
        "        MIN(visit_time) AS first_visit_time\n",
        "    FROM page_visits\n",
        "    GROUP BY user_id\n",
        "),\n",
        "first_touch_counts AS (\n",
        "    SELECT\n",
        "        pv.campaign,\n",
        "        COUNT(DISTINCT pv.user_id) AS num_first_touches\n",
        "    FROM first_touch ft\n",
        "    JOIN page_visits pv ON ft.user_id = pv.user_id AND ft.first_visit_time = pv.visit_time\n",
        "    GROUP BY pv.campaign\n",
        "),\n",
        "last_touch AS (\n",
        "    SELECT\n",
        "        user_id,\n",
        "        MAX(visit_time) AS last_visit_time\n",
        "    FROM page_visits\n",
        "    GROUP BY user_id\n",
        "),\n",
        "last_touch_counts AS (\n",
        "    SELECT\n",
        "        pv.campaign,\n",
        "        COUNT(DISTINCT pv.user_id) AS num_last_touches\n",
        "    FROM last_touch lt\n",
        "    JOIN page_visits pv ON lt.user_id = pv.user_id AND lt.last_visit_time = pv.visit_time\n",
        "    GROUP BY pv.campaign\n",
        "),\n",
        "purchase_last_touch_counts AS (\n",
        "    SELECT\n",
        "        pv.campaign,\n",
        "        COUNT(DISTINCT pv.user_id) AS num_purchase_last_touches\n",
        "    FROM last_touch lt\n",
        "    JOIN page_visits pv ON lt.user_id = pv.user_id AND lt.last_visit_time = pv.visit_time\n",
        "    WHERE pv.page_name = '4 - Purchase'\n",
        "    GROUP BY pv.campaign\n",
        ")\n",
        "SELECT\n",
        "    ftc.campaign,\n",
        "    ftc.num_first_touches,\n",
        "    ltc.num_last_touches,\n",
        "    plc.num_purchase_last_touches\n",
        "FROM first_touch_counts ftc\n",
        "LEFT JOIN last_touch_counts ltc ON ftc.campaign = ltc.campaign\n",
        "LEFT JOIN purchase_last_touch_counts plc ON ftc.campaign = plc.campaign\n",
        "ORDER BY plc.num_purchase_last_touches DESC NULLS LAST;\n"
      ],
      "metadata": {
        "id": "E7DAW3aqgjZ9"
      },
      "execution_count": null,
      "outputs": []
    }
  ]
}