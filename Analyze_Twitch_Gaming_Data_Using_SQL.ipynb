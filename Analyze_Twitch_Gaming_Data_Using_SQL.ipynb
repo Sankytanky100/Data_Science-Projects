{
  "nbformat": 4,
  "nbformat_minor": 0,
  "metadata": {
    "colab": {
      "provenance": [],
      "authorship_tag": "ABX9TyNimx29BwyO9g5NVGOugYWg",
      "include_colab_link": true
    },
    "kernelspec": {
      "name": "python3",
      "display_name": "Python 3"
    },
    "language_info": {
      "name": "python"
    }
  },
  "cells": [
    {
      "cell_type": "markdown",
      "metadata": {
        "id": "view-in-github",
        "colab_type": "text"
      },
      "source": [
        "<a href=\"https://colab.research.google.com/github/Sankytanky100/Data_Science-Projects/blob/main/Analyze_Twitch_Gaming_Data_Using_SQL.ipynb\" target=\"_parent\"><img src=\"https://colab.research.google.com/assets/colab-badge.svg\" alt=\"Open In Colab\"/></a>"
      ]
    },
    {
      "cell_type": "code",
      "execution_count": null,
      "metadata": {
        "colab": {
          "base_uri": "https://localhost:8080/"
        },
        "id": "LI4lSaLthi6X",
        "outputId": "56677a5c-c995-4872-d083-c41256860a53"
      },
      "outputs": [
        {
          "output_type": "stream",
          "name": "stdout",
          "text": [
            "Requirement already satisfied: ipython-sql in /usr/local/lib/python3.10/dist-packages (0.5.0)\n",
            "Requirement already satisfied: prettytable in /usr/local/lib/python3.10/dist-packages (from ipython-sql) (3.12.0)\n",
            "Requirement already satisfied: ipython in /usr/local/lib/python3.10/dist-packages (from ipython-sql) (7.34.0)\n",
            "Requirement already satisfied: sqlalchemy>=2.0 in /usr/local/lib/python3.10/dist-packages (from ipython-sql) (2.0.36)\n",
            "Requirement already satisfied: sqlparse in /usr/local/lib/python3.10/dist-packages (from ipython-sql) (0.5.2)\n",
            "Requirement already satisfied: six in /usr/local/lib/python3.10/dist-packages (from ipython-sql) (1.16.0)\n",
            "Requirement already satisfied: ipython-genutils in /usr/local/lib/python3.10/dist-packages (from ipython-sql) (0.2.0)\n",
            "Requirement already satisfied: typing-extensions>=4.6.0 in /usr/local/lib/python3.10/dist-packages (from sqlalchemy>=2.0->ipython-sql) (4.12.2)\n",
            "Requirement already satisfied: greenlet!=0.4.17 in /usr/local/lib/python3.10/dist-packages (from sqlalchemy>=2.0->ipython-sql) (3.1.1)\n",
            "Requirement already satisfied: setuptools>=18.5 in /usr/local/lib/python3.10/dist-packages (from ipython->ipython-sql) (75.1.0)\n",
            "Requirement already satisfied: jedi>=0.16 in /usr/local/lib/python3.10/dist-packages (from ipython->ipython-sql) (0.19.2)\n",
            "Requirement already satisfied: decorator in /usr/local/lib/python3.10/dist-packages (from ipython->ipython-sql) (4.4.2)\n",
            "Requirement already satisfied: pickleshare in /usr/local/lib/python3.10/dist-packages (from ipython->ipython-sql) (0.7.5)\n",
            "Requirement already satisfied: traitlets>=4.2 in /usr/local/lib/python3.10/dist-packages (from ipython->ipython-sql) (5.7.1)\n",
            "Requirement already satisfied: prompt-toolkit!=3.0.0,!=3.0.1,<3.1.0,>=2.0.0 in /usr/local/lib/python3.10/dist-packages (from ipython->ipython-sql) (3.0.48)\n",
            "Requirement already satisfied: pygments in /usr/local/lib/python3.10/dist-packages (from ipython->ipython-sql) (2.18.0)\n",
            "Requirement already satisfied: backcall in /usr/local/lib/python3.10/dist-packages (from ipython->ipython-sql) (0.2.0)\n",
            "Requirement already satisfied: matplotlib-inline in /usr/local/lib/python3.10/dist-packages (from ipython->ipython-sql) (0.1.7)\n",
            "Requirement already satisfied: pexpect>4.3 in /usr/local/lib/python3.10/dist-packages (from ipython->ipython-sql) (4.9.0)\n",
            "Requirement already satisfied: wcwidth in /usr/local/lib/python3.10/dist-packages (from prettytable->ipython-sql) (0.2.13)\n",
            "Requirement already satisfied: parso<0.9.0,>=0.8.4 in /usr/local/lib/python3.10/dist-packages (from jedi>=0.16->ipython->ipython-sql) (0.8.4)\n",
            "Requirement already satisfied: ptyprocess>=0.5 in /usr/local/lib/python3.10/dist-packages (from pexpect>4.3->ipython->ipython-sql) (0.7.0)\n",
            "Requirement already satisfied: sqlalchemy in /usr/local/lib/python3.10/dist-packages (2.0.36)\n",
            "Requirement already satisfied: typing-extensions>=4.6.0 in /usr/local/lib/python3.10/dist-packages (from sqlalchemy) (4.12.2)\n",
            "Requirement already satisfied: greenlet!=0.4.17 in /usr/local/lib/python3.10/dist-packages (from sqlalchemy) (3.1.1)\n",
            "The sql extension is already loaded. To reload it, use:\n",
            "  %reload_ext sql\n"
          ]
        }
      ],
      "source": [
        "# Install ipython-sql extension\n",
        "!pip install ipython-sql\n",
        "\n",
        "# Install SQLAlchemy for SQLite support\n",
        "!pip install sqlalchemy\n",
        "\n",
        "# Load the SQL extension\n",
        "%load_ext sql\n",
        "\n",
        "from sqlalchemy import create_engine"
      ]
    },
    {
      "cell_type": "code",
      "source": [
        "# Create an in-memory SQLite database\n",
        "%sql sqlite://\n"
      ],
      "metadata": {
        "id": "JZQIuTNnimko"
      },
      "execution_count": null,
      "outputs": []
    },
    {
      "cell_type": "code",
      "source": [
        "import pandas as pd\n",
        "\n",
        "# Read the CSV files into Pandas DataFrames\n",
        "stream_df = pd.read_csv('video_play.csv')\n",
        "chat_df = pd.read_csv('chat.csv')\n",
        "\n",
        "# Remove any spaces in column names (if any)\n",
        "stream_df.columns = [c.replace(' ', '_') for c in stream_df.columns]\n",
        "chat_df.columns = [c.replace(' ', '_') for c in chat_df.columns]\n",
        "\n",
        "# Load the DataFrames into SQLite\n",
        "from sqlalchemy import create_engine\n",
        "\n",
        "# Create a SQLite database file\n",
        "engine = create_engine('sqlite:///twitch.db', echo=False)\n",
        "\n",
        "# Load data into SQLite database\n",
        "stream_df.to_sql('stream', con=engine, index=False, if_exists='replace')\n",
        "chat_df.to_sql('chat', con=engine, index=False, if_exists='replace')\n",
        "\n",
        "# Connect ipython-sql to the database file\n",
        "%sql sqlite:///twitch.db\n"
      ],
      "metadata": {
        "id": "sTuNlMpCipeq"
      },
      "execution_count": null,
      "outputs": []
    },
    {
      "cell_type": "code",
      "source": [
        "%%sql\n",
        "SELECT * FROM stream LIMIT 20;"
      ],
      "metadata": {
        "colab": {
          "base_uri": "https://localhost:8080/",
          "height": 106
        },
        "id": "iZ_ATunYjJuH",
        "outputId": "9bbc6cfd-b7a1-439a-85c1-5ea025db7b24"
      },
      "execution_count": null,
      "outputs": [
        {
          "output_type": "error",
          "ename": "SyntaxError",
          "evalue": "invalid syntax (<ipython-input-11-70e081a6c976>, line 2)",
          "traceback": [
            "\u001b[0;36m  File \u001b[0;32m\"<ipython-input-11-70e081a6c976>\"\u001b[0;36m, line \u001b[0;32m2\u001b[0m\n\u001b[0;31m    SELECT * FROM stream LIMIT 20;\u001b[0m\n\u001b[0m                  ^\u001b[0m\n\u001b[0;31mSyntaxError\u001b[0m\u001b[0;31m:\u001b[0m invalid syntax\n"
          ]
        }
      ]
    },
    {
      "cell_type": "code",
      "source": [
        "%%sql\n",
        "SELECT * FROM chat LIMIT 20;\n"
      ],
      "metadata": {
        "id": "bz-Nu0WGjLWa"
      },
      "execution_count": null,
      "outputs": []
    },
    {
      "cell_type": "code",
      "source": [
        "%%sql\n",
        "SELECT DISTINCT game FROM stream;\n"
      ],
      "metadata": {
        "id": "HABvpFSEjL5S"
      },
      "execution_count": null,
      "outputs": []
    },
    {
      "cell_type": "code",
      "source": [
        "%%sql\n",
        "SELECT DISTINCT channel FROM stream;\n"
      ],
      "metadata": {
        "id": "b8blkhm4jPQE"
      },
      "execution_count": null,
      "outputs": []
    },
    {
      "cell_type": "code",
      "source": [
        "%%sql\n",
        "SELECT\n",
        "    game,\n",
        "    SUM(viewers) AS total_viewers\n",
        "FROM stream\n",
        "GROUP BY game\n",
        "ORDER BY total_viewers DESC;\n"
      ],
      "metadata": {
        "id": "NBmKZGDcjQa6"
      },
      "execution_count": null,
      "outputs": []
    },
    {
      "cell_type": "code",
      "source": [
        "%%sql\n",
        "SELECT\n",
        "    country,\n",
        "    SUM(viewers) AS total_viewers\n",
        "FROM stream\n",
        "WHERE game = 'League of Legends'\n",
        "GROUP BY country\n",
        "ORDER BY total_viewers DESC;\n"
      ],
      "metadata": {
        "id": "r8iqybWZjRbz"
      },
      "execution_count": null,
      "outputs": []
    },
    {
      "cell_type": "code",
      "source": [
        "%%sql\n",
        "SELECT\n",
        "    player,\n",
        "    COUNT(DISTINCT user_id) AS num_streamers\n",
        "FROM stream\n",
        "GROUP BY player\n",
        "ORDER BY num_streamers DESC;\n"
      ],
      "metadata": {
        "id": "NcpVK09ejSgZ"
      },
      "execution_count": null,
      "outputs": []
    },
    {
      "cell_type": "markdown",
      "source": [
        "Create a New Column Named genre for Each of the Games\n",
        "Group the games into their genres:\n",
        "\n",
        "MOBA: 'League of Legends', 'Dota 2', 'Heroes of the Storm'\n",
        "FPS: 'Counter-Strike: Global Offensive'\n",
        "Survival: 'DayZ', 'ARK: Survival Evolved'\n",
        "Other: All other games"
      ],
      "metadata": {
        "id": "h_QtLbcljV1v"
      }
    },
    {
      "cell_type": "code",
      "source": [
        "%%sql\n",
        "SELECT\n",
        "    game,\n",
        "    CASE\n",
        "        WHEN game IN ('League of Legends', 'Dota 2', 'Heroes of the Storm') THEN 'MOBA'\n",
        "        WHEN game = 'Counter-Strike: Global Offensive' THEN 'FPS'\n",
        "        WHEN game IN ('DayZ', 'ARK: Survival Evolved') THEN 'Survival'\n",
        "        ELSE 'Other'\n",
        "    END AS genre\n",
        "FROM stream\n",
        "GROUP BY game\n",
        "ORDER BY game;\n"
      ],
      "metadata": {
        "id": "vVfeKomSjTsd"
      },
      "execution_count": null,
      "outputs": []
    },
    {
      "cell_type": "code",
      "source": [
        "%%sql\n",
        "SELECT time\n",
        "FROM stream\n",
        "LIMIT 10;\n"
      ],
      "metadata": {
        "id": "XvjpfzBAjWrd"
      },
      "execution_count": null,
      "outputs": []
    },
    {
      "cell_type": "code",
      "source": [
        "%%sql\n",
        "SELECT time, strftime('%S', time) AS seconds\n",
        "FROM stream\n",
        "GROUP BY 1\n",
        "LIMIT 20;\n"
      ],
      "metadata": {
        "id": "7WJ1NEWLjYz7"
      },
      "execution_count": null,
      "outputs": []
    },
    {
      "cell_type": "code",
      "source": [
        "%%sql\n",
        "SELECT\n",
        "    strftime('%H', time) AS hour,\n",
        "    SUM(viewers) AS total_viewers\n",
        "FROM stream\n",
        "WHERE country = 'US'\n",
        "GROUP BY hour\n",
        "ORDER BY hour;\n"
      ],
      "metadata": {
        "id": "DdxmUMqajZxE"
      },
      "execution_count": null,
      "outputs": []
    },
    {
      "cell_type": "code",
      "source": [
        "%%sql\n",
        "SELECT\n",
        "    s.time,\n",
        "    s.device_id,\n",
        "    s.user_id AS stream_user_id,\n",
        "    c.user_id AS chat_user_id,\n",
        "    s.channel,\n",
        "    s.game,\n",
        "    c.messages\n",
        "FROM stream s\n",
        "JOIN chat c ON s.device_id = c.device_id\n",
        "LIMIT 20;\n"
      ],
      "metadata": {
        "id": "VHvL2MiPjavZ"
      },
      "execution_count": null,
      "outputs": []
    },
    {
      "cell_type": "code",
      "source": [
        "%%sql\n",
        "SELECT\n",
        "    s.channel,\n",
        "    COUNT(c.messages) AS total_messages\n",
        "FROM stream s\n",
        "JOIN chat c ON s.device_id = c.device_id\n",
        "WHERE s.game = 'League of Legends'\n",
        "GROUP BY s.channel\n",
        "ORDER BY total_messages DESC\n",
        "LIMIT 10;\n"
      ],
      "metadata": {
        "id": "BEBVPNbYjbpF"
      },
      "execution_count": null,
      "outputs": []
    },
    {
      "cell_type": "code",
      "source": [
        "# Import necessary libraries\n",
        "import pandas as pd\n",
        "import matplotlib.pyplot as plt\n",
        "import sqlite3\n",
        "\n",
        "# Simulate Twitch `stream` data\n",
        "stream_data = {\n",
        "    'game': ['LoL', 'Dota 2', 'CS:GO', 'DayZ', 'HOS', 'Isaac', 'Shows', 'Hearth', 'WoT', 'Agar.io'],\n",
        "    'viewers': [1070, 472, 302, 239, 210, 171, 170, 90, 86, 71],\n",
        "    'country': ['US', 'DE', 'US', 'US', 'DE', 'US', 'GB', 'GB', 'CA', 'TR'],\n",
        "    'time': ['2015-01-01 01:00:00', '2015-01-01 02:00:00', '2015-01-01 03:00:00',\n",
        "             '2015-01-01 04:00:00', '2015-01-01 05:00:00', '2015-01-01 06:00:00',\n",
        "             '2015-01-01 07:00:00', '2015-01-01 08:00:00', '2015-01-01 09:00:00',\n",
        "             '2015-01-01 10:00:00']\n",
        "}\n",
        "stream_df = pd.DataFrame(stream_data)\n",
        "\n",
        "# Simulate Twitch `chat` data\n",
        "chat_data = {\n",
        "    'device_id': [1, 2, 3, 4, 5],\n",
        "    'messages': [10, 15, 20, 5, 8],\n",
        "    'game': ['LoL', 'CS:GO', 'LoL', 'HOS', 'Dota 2']\n",
        "}\n",
        "chat_df = pd.DataFrame(chat_data)\n",
        "\n",
        "# Create SQLite database\n",
        "conn = sqlite3.connect(\"twitch.db\")\n",
        "stream_df.to_sql(\"stream\", conn, index=False, if_exists=\"replace\")\n",
        "chat_df.to_sql(\"chat\", conn, index=False, if_exists=\"replace\")\n",
        "\n",
        "# Verify the data loaded\n",
        "print(\"Stream Table:\")\n",
        "print(pd.read_sql(\"SELECT * FROM stream LIMIT 5\", conn))\n",
        "\n",
        "print(\"\\nChat Table:\")\n",
        "print(pd.read_sql(\"SELECT * FROM chat LIMIT 5\", conn))\n",
        "\n",
        "# Task 1: Bar Graph - Featured Games\n",
        "games_query = \"\"\"\n",
        "SELECT game, SUM(viewers) as total_viewers\n",
        "FROM stream\n",
        "GROUP BY game\n",
        "ORDER BY total_viewers DESC\n",
        "LIMIT 10\n",
        "\"\"\"\n",
        "games_data = pd.read_sql(games_query, conn)\n",
        "\n",
        "# Visualization\n",
        "plt.figure(figsize=(10, 6))\n",
        "plt.bar(games_data['game'], games_data['total_viewers'], color='skyblue')\n",
        "plt.title(\"Featured Games on Twitch (Viewers)\", fontsize=14)\n",
        "plt.xlabel(\"Games\", fontsize=12)\n",
        "plt.ylabel(\"Total Viewers\", fontsize=12)\n",
        "plt.xticks(rotation=45)\n",
        "plt.show()\n",
        "\n",
        "# Task 2: Pie Chart - League of Legends Viewers' Whereabouts\n",
        "lol_query = \"\"\"\n",
        "SELECT country, SUM(viewers) as total_viewers\n",
        "FROM stream\n",
        "WHERE game = 'LoL'\n",
        "GROUP BY country\n",
        "ORDER BY total_viewers DESC\n",
        "\"\"\"\n",
        "lol_data = pd.read_sql(lol_query, conn)\n",
        "\n",
        "# Visualization\n",
        "colors = ['lightskyblue', 'gold', 'lightcoral', 'gainsboro', 'royalblue']\n",
        "explode = [0.1] + [0] * (len(lol_data) - 1)\n",
        "plt.figure(figsize=(8, 8))\n",
        "plt.pie(lol_data['total_viewers'], labels=lol_data['country'], autopct='%1.1f%%',\n",
        "        explode=explode, colors=colors, shadow=True, startangle=345)\n",
        "plt.title(\"League of Legends Viewers' Whereabouts\", fontsize=14)\n",
        "plt.show()\n",
        "\n",
        "# Task 3: Line Graph - Time Series Analysis\n",
        "time_query = \"\"\"\n",
        "SELECT strftime('%H', time) as hour, SUM(viewers) as total_viewers\n",
        "FROM stream\n",
        "GROUP BY hour\n",
        "ORDER BY hour\n",
        "\"\"\"\n",
        "time_data = pd.read_sql(time_query, conn)\n",
        "\n",
        "# Visualization\n",
        "plt.figure(figsize=(10, 6))\n",
        "plt.plot(time_data['hour'], time_data['total_viewers'], marker='o', color='skyblue', label=\"Viewers\")\n",
        "plt.title(\"Time Series Analysis of Viewers\", fontsize=14)\n",
        "plt.xlabel(\"Hour (24-Hour Format)\", fontsize=12)\n",
        "plt.ylabel(\"Total Viewers\", fontsize=12)\n",
        "plt.legend()\n",
        "plt.grid(alpha=0.3)\n",
        "plt.show()\n",
        "\n",
        "# Task 4: Join and Additional Insights\n",
        "join_query = \"\"\"\n",
        "SELECT stream.game, stream.viewers, chat.messages\n",
        "FROM stream\n",
        "JOIN chat\n",
        "ON stream.game = chat.game\n",
        "\"\"\"\n",
        "join_data = pd.read_sql(join_query, conn)\n",
        "print(\"\\nStream and Chat Joined Data:\")\n",
        "print(join_data)\n",
        "\n",
        "# Closing the connection\n",
        "conn.close()\n"
      ],
      "metadata": {
        "id": "NJjdxLrAmH1e"
      },
      "execution_count": null,
      "outputs": []
    }
  ]
}